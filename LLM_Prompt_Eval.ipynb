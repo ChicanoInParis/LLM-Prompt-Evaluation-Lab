{
 "cells": [
  {
   "cell_type": "code",
   "execution_count": null,
   "id": "b012690c",
   "metadata": {},
   "outputs": [],
   "source": [
    "import pandas as pd\n",
    "import matplotlib.pyplot as plt\n",
    "\n",
    "# Load CSV\n",
    "df = pd.read_csv('LLM-zero-one-shot.csv')\n",
    "\n",
    "# Clean and analyze\n",
    "df_clean = df.dropna(subset=['Model Name', 'Accuracy (0 - 5)'])\n",
    "model_avg = df_clean.groupby('Model Name')['Accuracy (0 - 5)'].mean().sort_values(ascending=False)\n",
    "\n",
    "# Plot\n",
    "plt.figure(figsize=(12, 8))\n",
    "model_avg.plot(kind='bar', color='skyblue')\n",
    "plt.title('Average Accuracy Score (0–5) per LLM')\n",
    "plt.xlabel('Model Name')\n",
    "plt.ylabel('Average Score')\n",
    "plt.xticks(rotation=90)\n",
    "plt.tight_layout()\n",
    "plt.show()"
   ]
  }
 ],
 "metadata": {
  "language_info": {
   "name": "python"
  }
 },
 "nbformat": 4,
 "nbformat_minor": 5
}
